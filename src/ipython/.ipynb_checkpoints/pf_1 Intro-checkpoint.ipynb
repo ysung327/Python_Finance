{
 "cells": [
  {
   "cell_type": "code",
   "execution_count": 1,
   "metadata": {},
   "outputs": [],
   "source": [
    "import matplotlib.pyplot as plt\n",
    "from matplotlib import style\n",
    "import pandas as pd\n",
    "#import pandas_datareader.data as web\n",
    "#import datetime as dt"
   ]
  },
  {
   "cell_type": "code",
   "execution_count": 2,
   "metadata": {},
   "outputs": [],
   "source": [
    "style.use('ggplot')"
   ]
  },
  {
   "cell_type": "code",
   "execution_count": 4,
   "metadata": {},
   "outputs": [],
   "source": [
    "'''\n",
    "start = dt.datetime(2000,1,1)\n",
    "end = dt.datetime(2018,6,25)\n",
    "df = web.DataReader('TSLA','yahoo',start,end) \n",
    "야후 api에서 데이터프레임 형태로 데이터 받아오기. 이제 안됨.\n",
    "alphavantage를 쓰든지 기존에 받았던 csv를 가져오든지.\n",
    "'''\n",
    "df = pd.read_csv('../../res/tsla.csv')"
   ]
  },
  {
   "cell_type": "code",
   "execution_count": 5,
   "metadata": {},
   "outputs": [
    {
     "name": "stdout",
     "output_type": "stream",
     "text": [
      "         Date       Open   High        Low      Close  Adj Close    Volume\n",
      "0  2010-06-29  19.000000  25.00  17.540001  23.889999  23.889999  18766300\n",
      "1  2010-06-30  25.790001  30.42  23.299999  23.830000  23.830000  17187100\n",
      "2  2010-07-01  25.000000  25.92  20.270000  21.959999  21.959999   8218800\n",
      "3  2010-07-02  23.000000  23.10  18.709999  19.200001  19.200001   5139800\n",
      "4  2010-07-06  20.000000  20.00  15.830000  16.110001  16.110001   6866900\n"
     ]
    }
   ],
   "source": [
    "print(df.head())\n",
    "#뒤에꺼부터 출력."
   ]
  },
  {
   "cell_type": "code",
   "execution_count": 6,
   "metadata": {},
   "outputs": [
    {
     "name": "stdout",
     "output_type": "stream",
     "text": [
      "         Date       Open       High        Low      Close  Adj Close    Volume\n",
      "0  2010-06-29  19.000000  25.000000  17.540001  23.889999  23.889999  18766300\n",
      "1  2010-06-30  25.790001  30.420000  23.299999  23.830000  23.830000  17187100\n",
      "2  2010-07-01  25.000000  25.920000  20.270000  21.959999  21.959999   8218800\n",
      "3  2010-07-02  23.000000  23.100000  18.709999  19.200001  19.200001   5139800\n",
      "4  2010-07-06  20.000000  20.000000  15.830000  16.110001  16.110001   6866900\n",
      "5  2010-07-07  16.400000  16.629999  14.980000  15.800000  15.800000   6921700\n"
     ]
    }
   ],
   "source": [
    "print(df.head(6))"
   ]
  },
  {
   "cell_type": "code",
   "execution_count": 7,
   "metadata": {},
   "outputs": [
    {
     "name": "stdout",
     "output_type": "stream",
     "text": [
      "            Date        Open        High         Low       Close   Adj Close  \\\n",
      "2006  2018-06-18  355.399994  373.730011  354.500000  370.829987  370.829987   \n",
      "2007  2018-06-19  365.160004  370.000000  346.250000  352.549988  352.549988   \n",
      "2008  2018-06-20  358.040009  364.380005  352.000000  362.220001  362.220001   \n",
      "2009  2018-06-21  362.000000  366.209991  346.269989  347.510010  347.510010   \n",
      "2010  2018-06-22  351.540009  352.250000  332.000000  333.630005  333.630005   \n",
      "2011  2018-06-25  330.119995  338.470001  327.500000  333.010010  333.010010   \n",
      "\n",
      "        Volume  \n",
      "2006  12073200  \n",
      "2007  12761900  \n",
      "2008   8383700  \n",
      "2009   7967100  \n",
      "2010  10266100  \n",
      "2011   6907900  \n"
     ]
    }
   ],
   "source": [
    "print(df.tail(6))"
   ]
  },
  {
   "cell_type": "code",
   "execution_count": null,
   "metadata": {},
   "outputs": [],
   "source": []
  }
 ],
 "metadata": {
  "kernelspec": {
   "display_name": "Python 3",
   "language": "python",
   "name": "python3"
  },
  "language_info": {
   "codemirror_mode": {
    "name": "ipython",
    "version": 3
   },
   "file_extension": ".py",
   "mimetype": "text/x-python",
   "name": "python",
   "nbconvert_exporter": "python",
   "pygments_lexer": "ipython3",
   "version": "3.5.5"
  }
 },
 "nbformat": 4,
 "nbformat_minor": 2
}
